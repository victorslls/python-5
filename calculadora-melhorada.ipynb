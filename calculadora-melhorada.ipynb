{
 "cells": [
  {
   "cell_type": "code",
   "execution_count": 6,
   "metadata": {},
   "outputs": [
    {
     "data": {
      "text/plain": [
       "range(1, 5)"
      ]
     },
     "execution_count": 6,
     "metadata": {},
     "output_type": "execute_result"
    }
   ],
   "source": [
    "range(1,5)"
   ]
  },
  {
   "cell_type": "code",
   "execution_count": 4,
   "metadata": {},
   "outputs": [
    {
     "name": "stdout",
     "output_type": "stream",
     "text": [
      "Número 1\n",
      "Número 2\n",
      "Número 3\n",
      "Número 4\n",
      "Número 5\n"
     ]
    }
   ],
   "source": [
    "def funcaoLeitura():\n",
    "    for num in [1,2,3,4,5]:\n",
    "        print(\"Número\", num)\n",
    "\n",
    "funcaoLeitura()"
   ]
  },
  {
   "cell_type": "code",
   "execution_count": 9,
   "metadata": {},
   "outputs": [
    {
     "name": "stdout",
     "output_type": "stream",
     "text": [
      "Número 0\n",
      "Número 1\n",
      "Número 2\n",
      "Número 3\n",
      "Número 4\n"
     ]
    }
   ],
   "source": [
    "def funcaoLeituraa():\n",
    "    for num in range(5):\n",
    "        print(\"Número\", num)\n",
    "\n",
    "funcaoLeituraa()"
   ]
  },
  {
   "cell_type": "code",
   "execution_count": 18,
   "metadata": {},
   "outputs": [
    {
     "name": "stdout",
     "output_type": "stream",
     "text": [
      "O primeiro número é:  2\n",
      "O Segundo número é:  5\n",
      "A Soma número é:  7\n",
      "O primeiro número é:  4\n",
      "O Segundo número é:  6\n",
      "A Soma número é:  10\n",
      "O primeiro número é:  6\n",
      "O Segundo número é:  2\n",
      "A Soma número é:  8\n"
     ]
    }
   ],
   "source": [
    "def addNum(n1, n2):\n",
    "    print(\"O primeiro número é: \", n1)\n",
    "    print(\"O Segundo número é: \", n2)\n",
    "    print(\"A Soma número é: \", n1+n2)\n",
    "\n",
    "addNum(2,5)\n",
    "addNum(4,6) \n",
    "addNum(6,2) "
   ]
  },
  {
   "cell_type": "code",
   "execution_count": 31,
   "metadata": {},
   "outputs": [
    {
     "name": "stdout",
     "output_type": "stream",
     "text": [
      "Variável da função Multiplica: 800\n",
      "800\n",
      "10\n",
      "10\n"
     ]
    }
   ],
   "source": [
    "varGlobal = 10\n",
    "def multiplica(num1, num2):\n",
    "    varLocal = num1 * num2\n",
    "    print(\"Variável da função Multiplica:\", varLocal)\n",
    "    print(varLocal)\n",
    "    print(varGlobal)\n",
    " \n",
    "\n",
    "multiplica(20,40)    \n",
    "print(varGlobal)\n"
   ]
  },
  {
   "cell_type": "code",
   "execution_count": 30,
   "metadata": {},
   "outputs": [
    {
     "name": "stdout",
     "output_type": "stream",
     "text": [
      "Variável da função Multiplica: 15\n",
      "10\n"
     ]
    }
   ],
   "source": [
    "varGlobal =10 \n",
    "def multiplicacao(n1,n2):\n",
    "    varGlobal= (n1*n2)\n",
    "    print(\"Variável da função Multiplica:\", varGlobal)\n",
    "\n",
    "\n",
    "\n",
    "multiplicacao(5,3)\n",
    "print(varGlobal)"
   ]
  },
  {
   "cell_type": "code",
   "execution_count": 33,
   "metadata": {},
   "outputs": [
    {
     "name": "stdout",
     "output_type": "stream",
     "text": [
      "Parâmetro 0 Luquinhas\n",
      "Parâmetro 1 Madá\n",
      "Parâmetro 2 Giggio\n"
     ]
    }
   ],
   "source": [
    "def variosParametros(*parametros):\n",
    "    for n, item in enumerate(parametros):\n",
    "        print(\"Parâmetro\", n, item)\n",
    "    \n",
    "    return\n",
    "\n",
    "variosParametros('Luquinhas', 'Madá', 'Giggio')"
   ]
  },
  {
   "cell_type": "code",
   "execution_count": 1,
   "metadata": {},
   "outputs": [],
   "source": [
    "def soma(n1, n2):\n",
    "    return n1 + n2\n",
    "\n",
    "def subtrai(n1, n2):\n",
    "    return n1 - n2\n",
    "\n",
    "def multiplica(n1, n2):\n",
    "    return n1 * n2\n",
    "\n",
    "def divide(n1, n2):\n",
    "    if n2 != 0:\n",
    "        return n1 / n2\n",
    "    else:\n",
    "        return \"Erro: Divisão por zero\"\n",
    "\n",
    "def porcentagem(n1, n2):\n",
    "    return (n1 / n2) * 100\n",
    "\n",
    "\n"
   ]
  },
  {
   "cell_type": "code",
   "execution_count": 3,
   "metadata": {},
   "outputs": [
    {
     "name": "stdout",
     "output_type": "stream",
     "text": [
      "+================+\n",
      " | Menu de Operações\n",
      " | 1 - somar\n",
      " | 2 - subtrair\n",
      " | 3 - multiplicar\n",
      " | 4 - dividir\n",
      " | 5 - porcentagem\n",
      " | 0 - sair\n",
      "+================+\n",
      "Por favor, insira um número válido.\n",
      "+================+\n",
      " | Menu de Operações\n",
      " | 1 - somar\n",
      " | 2 - subtrair\n",
      " | 3 - multiplicar\n",
      " | 4 - dividir\n",
      " | 5 - porcentagem\n",
      " | 0 - sair\n",
      "+================+\n",
      "Por favor, insira um número válido.\n",
      "+================+\n",
      " | Menu de Operações\n",
      " | 1 - somar\n",
      " | 2 - subtrair\n",
      " | 3 - multiplicar\n",
      " | 4 - dividir\n",
      " | 5 - porcentagem\n",
      " | 0 - sair\n",
      "+================+\n",
      "Por favor, insira um número válido.\n",
      "+================+\n",
      " | Menu de Operações\n",
      " | 1 - somar\n",
      " | 2 - subtrair\n",
      " | 3 - multiplicar\n",
      " | 4 - dividir\n",
      " | 5 - porcentagem\n",
      " | 0 - sair\n",
      "+================+\n",
      "Por favor, insira um número válido.\n",
      "+================+\n",
      " | Menu de Operações\n",
      " | 1 - somar\n",
      " | 2 - subtrair\n",
      " | 3 - multiplicar\n",
      " | 4 - dividir\n",
      " | 5 - porcentagem\n",
      " | 0 - sair\n",
      "+================+\n",
      "Por favor, insira um número válido.\n",
      "+================+\n",
      " | Menu de Operações\n",
      " | 1 - somar\n",
      " | 2 - subtrair\n",
      " | 3 - multiplicar\n",
      " | 4 - dividir\n",
      " | 5 - porcentagem\n",
      " | 0 - sair\n",
      "+================+\n",
      "O resultado da divisão é:  0.5\n",
      "+================+\n",
      " | Menu de Operações\n",
      " | 1 - somar\n",
      " | 2 - subtrair\n",
      " | 3 - multiplicar\n",
      " | 4 - dividir\n",
      " | 5 - porcentagem\n",
      " | 0 - sair\n",
      "+================+\n"
     ]
    }
   ],
   "source": [
    "while True:\n",
    "    print('+================+')\n",
    "    print(' | Menu de Operações')\n",
    "    print(' | 1 - somar')\n",
    "    print(' | 2 - subtrair')\n",
    "    print(' | 3 - multiplicar')\n",
    "    print(' | 4 - dividir')\n",
    "    print(' | 5 - porcentagem')\n",
    "    print(' | 0 - sair')\n",
    "    print('+================+')\n",
    "\n",
    "    try:\n",
    "        op = int(input(\"Escolha uma opção: \"))\n",
    "    except ValueError:\n",
    "        print(\"Por favor, insira um número válido.\")\n",
    "        continue\n",
    "\n",
    "    if op == 0:\n",
    "        break\n",
    "\n",
    "    n1 = int(input(\"Primeiro número: \"))\n",
    "    n2 = int(input(\"Segundo número: \"))\n",
    "\n",
    "    if op == 1:\n",
    "        print(\"O resultado da soma é: \", soma(n1, n2))\n",
    "    elif op == 2:\n",
    "        print(\"O resultado da subtração é: \", subtrai(n1, n2))\n",
    "    elif op == 3:\n",
    "        print(\"O resultado da multiplicação é: \", multiplica(n1, n2))\n",
    "    elif op == 4:\n",
    "        print(\"O resultado da divisão é: \", divide(n1, n2))\n",
    "    elif op == 5:\n",
    "        print(\"O resultado da porcentagem é: \", porcentagem(n1, n2))\n",
    "    else:\n",
    "        print('Opção não existe')\n",
    "\n",
    "   "
   ]
  }
 ],
 "metadata": {
  "kernelspec": {
   "display_name": "Python 3",
   "language": "python",
   "name": "python3"
  },
  "language_info": {
   "codemirror_mode": {
    "name": "ipython",
    "version": 3
   },
   "file_extension": ".py",
   "mimetype": "text/x-python",
   "name": "python",
   "nbconvert_exporter": "python",
   "pygments_lexer": "ipython3",
   "version": "3.11.9"
  }
 },
 "nbformat": 4,
 "nbformat_minor": 2
}
