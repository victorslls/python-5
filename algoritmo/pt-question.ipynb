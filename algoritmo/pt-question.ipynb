{
 "cells": [
  {
   "cell_type": "code",
   "execution_count": 1,
   "metadata": {},
   "outputs": [
    {
     "name": "stdout",
     "output_type": "stream",
     "text": [
      "A letra a é uma vogal.\n"
     ]
    }
   ],
   "source": [
    "def verificar_letra(letra):\n",
    "    vogais = 'aeiou'\n",
    "    if letra.lower() in vogais:\n",
    "        return \"A letra {} é uma vogal.\".format(letra)\n",
    "    else:\n",
    "        return \"A letra {} é uma consoante.\".format(letra)\n",
    "\n",
    "letra = input(\"Digite uma letra: \")\n",
    "print(verificar_letra(letra))\n"
   ]
  },
  {
   "cell_type": "code",
   "execution_count": 2,
   "metadata": {},
   "outputs": [
    {
     "name": "stdout",
     "output_type": "stream",
     "text": [
      "Você deve comprar o produto 1.\n"
     ]
    }
   ],
   "source": [
    "def verificar_preco():\n",
    "    precos = []\n",
    "    for i in range(1, 4):\n",
    "        preco = float(input(\"Digite o preço do produto {}: \".format(i)))\n",
    "        precos.append(preco)\n",
    "    menor_preco = min(precos)\n",
    "    produto_mais_barato = precos.index(menor_preco) + 1\n",
    "    return \"Você deve comprar o produto {}.\".format(produto_mais_barato)\n",
    "\n",
    "print(verificar_preco())\n"
   ]
  },
  {
   "cell_type": "code",
   "execution_count": 3,
   "metadata": {},
   "outputs": [
    {
     "name": "stdout",
     "output_type": "stream",
     "text": [
      "Os números em ordem decrescente são: [45.0, 30.0, 20.0]\n"
     ]
    }
   ],
   "source": [
    "# Solicita ao usuário que insira três números\n",
    "num1 = float(input(\"Digite o primeiro número: \"))\n",
    "num2 = float(input(\"Digite o segundo número: \"))\n",
    "num3 = float(input(\"Digite o terceiro número: \"))\n",
    "\n",
    "\n",
    "#lista das variaveis do get ashihasud\n",
    "numeros = [num1, num2, num3]\n",
    "\n",
    "\n",
    "numeros.sort(reverse=True)\n",
    "\n",
    "    #decrescente \n",
    "print(\"Os números em ordem decrescente são:\", numeros)\n"
   ]
  },
  {
   "cell_type": "code",
   "execution_count": 4,
   "metadata": {},
   "outputs": [
    {
     "name": "stdout",
     "output_type": "stream",
     "text": [
      "Quinta-feira\n"
     ]
    }
   ],
   "source": [
    "# Solicita ao usuário que insira um número\n",
    "num = int(input(\"Digite um número de 1 a 7: \"))\n",
    "\n",
    "# um objeto contendo os dados desejados\n",
    "dias = {1: \"Domingo\", 2: \"Segunda-feira\", 3: \"Terça-feira\", 4: \"Quarta-feira\", 5: \"Quinta-feira\", 6: \"Sexta-feira\", 7: \"Sábado\"}\n",
    "\n",
    "# verificando os dados\n",
    "if num in dias:\n",
    "    print(dias[num])\n",
    "else:\n",
    "    print(\"Valor inválido.\")\n"
   ]
  },
  {
   "cell_type": "code",
   "execution_count": 5,
   "metadata": {},
   "outputs": [
    {
     "name": "stdout",
     "output_type": "stream",
     "text": [
      "Boa tarde!\n"
     ]
    }
   ],
   "source": [
    "# Solicita ao usuário que insira o turno\n",
    "turno = input(\"Em que turno você estuda? Digite M para Matutino, B para Vespertino ou N para Noturno: \")\n",
    "\n",
    "# Converte a entrada para maiúsculas para evitar problemas com letras minúsculas\n",
    "turno = turno.upper()\n",
    "\n",
    "# Verifica o turno e imprime a mensagem correspondente\n",
    "if turno == 'M':\n",
    "    print(\"Bom dia!\")\n",
    "elif turno == 'B':\n",
    "    print(\"Boa tarde!\")\n",
    "elif turno == 'N':\n",
    "    print(\"Boa noite!\")\n",
    "else:\n",
    "    print(\"Valor inválido.\")\n"
   ]
  },
  {
   "cell_type": "code",
   "execution_count": 11,
   "metadata": {
    "metadata": {}
   },
   "outputs": [
    {
     "name": "stdout",
     "output_type": "stream",
     "text": [
      "Notas: 10.0, 8.0\n",
      "Média: 9.0\n",
      "Conceito: A\n",
      "Status: Aprovado\n"
     ]
    }
   ],
   "source": [
    "def calcular_conceito(nota1, nota2):\n",
    "    media = (nota1 + nota2) / 2\n",
    "    if 9.0 <= media <= 10.0:\n",
    "        conceito = 'A'\n",
    "    elif 7.5 <= media < 9.0:\n",
    "        conceito = 'B'\n",
    "    elif 6.0 <= media < 7.5:\n",
    "        conceito = 'C'\n",
    "    elif 4.0 <= media < 6.0:\n",
    "        conceito = 'D'\n",
    "    else:\n",
    "        conceito = 'E'\n",
    "\n",
    "    if conceito in ['A', 'B', 'C']:\n",
    "        status = 'Aprovado'\n",
    "    else:\n",
    "        status = 'Reprovado'\n",
    "\n",
    "    return media, conceito, status\n",
    "\n",
    "nota1 = float(input(\"Digite a primeira nota: \"))\n",
    "nota2 = float(input(\"Digite a segunda nota: \"))\n",
    "\n",
    "media, conceito, status = calcular_conceito(nota1, nota2)\n",
    "\n",
    "print(f'Notas: {nota1}, {nota2}')\n",
    "print(f'Média: {media}')\n",
    "print(f'Conceito: {conceito}')\n",
    "print(f'Status: {status}')\n"
   ]
  },
  {
   "cell_type": "code",
   "execution_count": 10,
   "metadata": {
    "metadata": {}
   },
   "outputs": [
    {
     "name": "stdout",
     "output_type": "stream",
     "text": [
      "O ano 2024 é bissexto.\n"
     ]
    }
   ],
   "source": [
    "def verificar_bissexto(ano):\n",
    "    if ano % 4 == 0:\n",
    "        if ano % 100 != 0 or ano % 400 == 0:\n",
    "            return True\n",
    "    return False\n",
    "\n",
    "ano = int(input(\"Digite um ano: \"))\n",
    "if verificar_bissexto(ano):\n",
    "    print(f'O ano {ano} é bissexto.')\n",
    "else:\n",
    "    print(f'O ano {ano} não é bissexto.')\n"
   ]
  },
  {
   "cell_type": "code",
   "execution_count": 9,
   "metadata": {
    "metadata": {}
   },
   "outputs": [
    {
     "name": "stdout",
     "output_type": "stream",
     "text": [
      "Resultado da operação: 47.0\n",
      "O número é ímpar, positivo e inteiro.\n"
     ]
    }
   ],
   "source": [
    "def operacao_basica(num1, num2, operacao):\n",
    "    if operacao == 'soma':\n",
    "        resultado = num1 + num2\n",
    "    elif operacao == 'subtração':\n",
    "        resultado = num1 - num2\n",
    "    elif operacao == 'multiplicação':\n",
    "        resultado = num1 * num2\n",
    "    elif operacao == 'divisão':\n",
    "        resultado = num1 / num2\n",
    "    elif operacao == 'exponenciação':\n",
    "        resultado = num1 ** num2\n",
    "    else:\n",
    "        return \"Operação inválida.\"\n",
    "\n",
    "    return resultado\n",
    "\n",
    "def verificar_numero(resultado):\n",
    "    if resultado % 2 == 0:\n",
    "        paridade = 'par'\n",
    "    else:\n",
    "        paridade = 'ímpar'\n",
    "\n",
    "    if resultado > 0:\n",
    "        sinal = 'positivo'\n",
    "    elif resultado < 0:\n",
    "        sinal = 'negativo'\n",
    "    else:\n",
    "        sinal = 'zero'\n",
    "\n",
    "    if resultado == int(resultado):\n",
    "        tipo = 'inteiro'\n",
    "    else:\n",
    "        tipo = 'decimal'\n",
    "\n",
    "    return paridade, sinal, tipo\n",
    "\n",
    "num1 = float(input(\"Digite o primeiro número: \"))\n",
    "num2 = float(input(\"Digite o segundo número: \"))\n",
    "operacao = input(\"Qual operação você deseja realizar (soma, subtração, multiplicação, divisão, exponenciação)? \")\n",
    "\n",
    "resultado = operacao_basica(num1, num2, operacao)\n",
    "paridade, sinal, tipo = verificar_numero(resultado)\n",
    "\n",
    "print(f'Resultado da operação: {resultado}')\n",
    "print(f'O número é {paridade}, {sinal} e {tipo}.')\n"
   ]
  },
  {
   "cell_type": "code",
   "execution_count": null,
   "metadata": {},
   "outputs": [],
   "source": [
    "while True:\n",
    "    idade = int(input(\"Digite sua idade: \"))\n",
    "    if 0 <= idade <= 150:\n",
    "        print(f\"Sua idade é {idade} anos.\")\n",
    "        break\n",
    "    else:\n",
    "        print(\"Idade inválida. Por favor, digite uma idade entre 0 e 150.\")\n"
   ]
  },
  {
   "cell_type": "code",
   "execution_count": 8,
   "metadata": {
    "metadata": {}
   },
   "outputs": [
    {
     "name": "stdout",
     "output_type": "stream",
     "text": [
      "Sua idade é 18 anos.\n"
     ]
    }
   ],
   "source": [
    "#formação um da questão 9 \n",
    "while True:\n",
    "    idade = int(input(\"Digite sua idade: \"))\n",
    "    if 0 <= idade <= 150:\n",
    "        print(f\"Sua idade é {idade} anos.\")\n",
    "        break\n",
    "    else:\n",
    "        print(\"Idade inválida. Por favor, digite uma idade entre 0 e 150.\")\n"
   ]
  },
  {
   "cell_type": "code",
   "execution_count": 7,
   "metadata": {
    "metadata": {}
   },
   "outputs": [
    {
     "name": "stdout",
     "output_type": "stream",
     "text": [
      "A soma dos números é 277.0 e a média é 55.4.\n"
     ]
    }
   ],
   "source": [
    "#formção 2 da questão 9 sem .append\n",
    "\n",
    "numeros = [0] * 5\n",
    "index = 0\n",
    "while index < 5:\n",
    "    numeros[index] = float(input(\"Digite um número: \"))\n",
    "    index += 1\n",
    "\n",
    "soma = sum(numeros)\n",
    "media = soma / len(numeros)\n",
    "\n",
    "print(f'A soma dos números é {soma} e a média é {media}.')\n"
   ]
  },
  {
   "cell_type": "code",
   "execution_count": 6,
   "metadata": {
    "metadata": {}
   },
   "outputs": [
    {
     "name": "stdout",
     "output_type": "stream",
     "text": [
      "O número 18 não é primo.\n"
     ]
    }
   ],
   "source": [
    "#questão 10\n",
    "\n",
    "def verificar_primo(number):\n",
    "    if number < 2:\n",
    "        return False\n",
    "    for index in range(2, number):\n",
    "        if number % index == 0:\n",
    "            return False\n",
    "    return True\n",
    "\n",
    "num = int(input(\"Digite um número: \"))\n",
    "if verificar_primo(num):\n",
    "    print(f'O número {num} é primo.')\n",
    "else:\n",
    "    print(f'O número {num} não é primo.')\n",
    "\n",
    "\n"
   ]
  },
  {
   "cell_type": "code",
   "execution_count": 5,
   "metadata": {
    "metadata": {}
   },
   "outputs": [
    {
     "name": "stdout",
     "output_type": "stream",
     "text": [
      "A menor temperatura é 15.0°C, a maior temperatura é 79.0°C e a média das temperaturas é 42.0°C.\n"
     ]
    }
   ],
   "source": [
    "#questão 11 \n",
    "temperaturas = []\n",
    "for i in range(5):\n",
    "    temp = float(input(\"Digite uma temperatura: \"))\n",
    "    temperaturas.append(temp)\n",
    "\n",
    "menor = min(temperaturas)\n",
    "maior = max(temperaturas)\n",
    "media = sum(temperaturas) / len(temperaturas)\n",
    "\n",
    "print(f'A menor temperatura é {menor}°C, a maior temperatura é {maior}°C e a média das temperaturas é {media}°C.')\n",
    "\n"
   ]
  },
  {
   "cell_type": "code",
   "execution_count": 4,
   "metadata": {
    "metadata": {}
   },
   "outputs": [
    {
     "name": "stdout",
     "output_type": "stream",
     "text": [
      "Seu saldo médio é R$400.0 e o valor do crédito é R$80.0.\n"
     ]
    }
   ],
   "source": [
    "#12 question \n",
    "\n",
    "def calcular_credito(saldo_medio):\n",
    "    if 0 <= saldo_medio <= 200:\n",
    "        credito = 0\n",
    "    elif 201 <= saldo_medio <= 400:\n",
    "        credito = saldo_medio * 0.2\n",
    "    elif 401 <= saldo_medio <= 600:\n",
    "        credito = saldo_medio * 0.3\n",
    "    else:\n",
    "        credito = saldo_medio * 0.4\n",
    "    return credito\n",
    "\n",
    "saldo_medio = float(input(\"Digite o saldo médio: \"))\n",
    "credito = calcular_credito(saldo_medio)\n",
    "\n",
    "print(f'Seu saldo médio é R${saldo_medio} e o valor do crédito é R${credito}.')\n"
   ]
  },
  {
   "cell_type": "code",
   "execution_count": 3,
   "metadata": {
    "metadata": {}
   },
   "outputs": [
    {
     "name": "stdout",
     "output_type": "stream",
     "text": [
      "marcos, você irá se aposentar no ano 2062.\n"
     ]
    }
   ],
   "source": [
    "#13 questão \n",
    " #usando função e importando o modulo de uma classe para deixar o codigo mais enxuto. \n",
    "\n",
    "from datetime import datetime\n",
    "\n",
    "def calcular_ano_aposentadoria(idade):\n",
    "    ano_atual = datetime.now().year\n",
    "    anos_restantes = 65 - idade\n",
    "    return ano_atual + anos_restantes\n",
    "\n",
    "nome = input(\"Digite seu nome: \")\n",
    "idade = int(input(\"Digite sua idade: \"))\n",
    "\n",
    "ano_aposentadoria = calcular_ano_aposentadoria(idade)\n",
    "\n",
    "print(f'{nome}, você irá se aposentar no ano {ano_aposentadoria}.')\n"
   ]
  },
  {
   "cell_type": "code",
   "execution_count": 2,
   "metadata": {
    "metadata": {}
   },
   "outputs": [
    {
     "name": "stdout",
     "output_type": "stream",
     "text": [
      "marcos, você irá se aposentar no ano 2062.\n"
     ]
    }
   ],
   "source": [
    "#ainda sobre a questão 13 sem o datatime \n",
    "\n",
    "def obter_ano_atual():\n",
    "    return int(input(\"Digite o ano atual: \"))\n",
    "\n",
    "def calcular_ano_aposentadoria(ano_atual, idade):\n",
    "    anos_restantes = 65 - idade\n",
    "    return ano_atual + anos_restantes\n",
    "\n",
    "nome = input(\"Digite seu nome: \")\n",
    "idade = int(input(\"Digite sua idade: \"))\n",
    "ano_atual = obter_ano_atual()\n",
    "\n",
    "ano_aposentadoria = calcular_ano_aposentadoria(ano_atual, idade)\n",
    "\n",
    "print(f'{nome}, você irá se aposentar no ano {ano_aposentadoria}.')\n"
   ]
  },
  {
   "cell_type": "code",
   "execution_count": 1,
   "metadata": {
    "metadata": {}
   },
   "outputs": [
    {
     "name": "stdout",
     "output_type": "stream",
     "text": [
      "Salário Bruto: R$200.0\n",
      "FGTS: R$22.0\n",
      "Total de descontos: R$6.0\n",
      "Salário Líquido: R$194.0\n"
     ]
    }
   ],
   "source": [
    "#14 questão \n",
    "\n",
    "\n",
    "def calcular_salario(horas, valor_hora):\n",
    "    salario_bruto = horas * valor_hora\n",
    "    if salario_bruto <= 2112.00:\n",
    "        ir = 0\n",
    "    elif salario_bruto <= 2826.65:\n",
    "        ir = salario_bruto * 0.075\n",
    "    elif salario_bruto <= 3751.05:\n",
    "        ir = salario_bruto * 0.15\n",
    "    elif salario_bruto <= 4664.68:\n",
    "        ir = salario_bruto * 0.225\n",
    "    else:\n",
    "        ir = salario_bruto * 0.275\n",
    "\n",
    "    sindicato = salario_bruto * 0.03\n",
    "    fgts = salario_bruto * 0.11\n",
    "    descontos = ir + sindicato\n",
    "    salario_liquido = salario_bruto - descontos\n",
    "\n",
    "    return salario_bruto, fgts, descontos, salario_liquido\n",
    "\n",
    "horas = float(input(\"Digite a quantidade de horas trabalhadas no mês: \"))\n",
    "valor_hora = float(input(\"Digite o valor da sua hora: \"))\n",
    "\n",
    "salario_bruto, fgts, descontos, salario_liquido = calcular_salario(horas, valor_hora)\n",
    "\n",
    "print(f'Salário Bruto: R${salario_bruto}')\n",
    "print(f'FGTS: R${fgts}')\n",
    "print(f'Total de descontos: R${descontos}')\n",
    "print(f'Salário Líquido: R${salario_liquido}')\n"
   ]
  }
 ],
 "metadata": {
  "kernelspec": {
   "display_name": "Python 3",
   "language": "python",
   "name": "python3"
  },
  "language_info": {
   "codemirror_mode": {
    "name": "ipython",
    "version": 3
   },
   "file_extension": ".py",
   "mimetype": "text/x-python",
   "name": "python",
   "nbconvert_exporter": "python",
   "pygments_lexer": "ipython3",
   "version": "3.11.9"
  }
 },
 "nbformat": 4,
 "nbformat_minor": 2
}
