{
 "cells": [
  {
   "cell_type": "code",
   "execution_count": 1,
   "metadata": {},
   "outputs": [
    {
     "name": "stdout",
     "output_type": "stream",
     "text": [
      "a) O produto do dobro do primeiro com metade do segundo é: 2.0\n",
      "b) A soma do triplo do primeiro com o terceiro é: 6.0\n",
      "   O terceiro elevado ao cubo é: 27.0\n"
     ]
    }
   ],
   "source": [
    "# Solicitação dos valores\n",
    "numero1 = int(input(\"Digite o primeiro número inteiro: \"))\n",
    "numero2 = int(input(\"Digite o segundo número inteiro: \"))\n",
    "numero3 = float(input(\"Digite o número real: \"))\n",
    "\n",
    "# calculo dos resultados dos numeros\n",
    "resultadoUm = (numero1 * 2) * (numero2 / 2)\n",
    "resultadoDois = (numero1 * 3) + numero3\n",
    "resultCubo = numero3 ** 3\n",
    "\n",
    "# Mostrando os resultados\n",
    "print(\"a) O produto do dobro do primeiro com metade do segundo é:\", resultadoUm)\n",
    "print(\"b) A soma do triplo do primeiro com o terceiro é:\", resultadoDois)\n",
    "print(\"   O terceiro elevado ao cubo é:\", resultCubo)\n",
    "\n"
   ]
  },
  {
   "cell_type": "code",
   "execution_count": 2,
   "metadata": {},
   "outputs": [
    {
     "name": "stdout",
     "output_type": "stream",
     "text": [
      "O maior número é: 20.0\n"
     ]
    }
   ],
   "source": [
    "# Solicitação dos valores\n",
    "numero1 = float(input(\"Digite o primeiro número: \"))\n",
    "numero2 = float(input(\"Digite o segundo número: \"))\n",
    "\n",
    "# Verificando o maior número\n",
    "if numero1 > numero2:\n",
    "    print(\"O maior número é:\", numero1)\n",
    "elif numero2 > numero1:\n",
    "    print(\"O maior número é:\", numero2)\n",
    "else:\n",
    "    print(\"Os números são iguais.\")\n"
   ]
  },
  {
   "cell_type": "code",
   "execution_count": 9,
   "metadata": {},
   "outputs": [
    {
     "name": "stdout",
     "output_type": "stream",
     "text": [
      "O valor é positivo.\n"
     ]
    }
   ],
   "source": [
    "# Solicitação dos valores\n",
    "getValue = float(input(\"Digite um valor: \"))\n",
    "\n",
    "# Verificando se o valor é positivo, negativo ou zero\n",
    "if getValue > 0:\n",
    "    print(\"O valor é positivo.\")\n",
    "elif getValue < 0:\n",
    "    print(\"O valor é negativo.\")\n",
    "else:\n",
    "    print(\"O valor é zero.\")\n"
   ]
  },
  {
   "cell_type": "code",
   "execution_count": 16,
   "metadata": {},
   "outputs": [
    {
     "name": "stdout",
     "output_type": "stream",
     "text": [
      "O maior número é: 15.0\n"
     ]
    }
   ],
   "source": [
    "# pegando os tres numeros\n",
    "numeroUm = float(input(\"Digite o primeiro número: \"))\n",
    "numeroDois = float(input(\"Digite o segundo número: \"))\n",
    "numeroTres = float(input(\"Digite o terceiro número: \"))\n",
    "\n",
    "# Verificando o maior número\n",
    "maiorNumero = numeroUm\n",
    "\n",
    "if numeroDois > maiorNumero and numeroDois > numeroUm:\n",
    "    maiorNumero = numeroDois\n",
    "elif numeroTres > numeroDois and numeroTres > numeroUm:\n",
    "    maiorNumero = numeroTres\n",
    "else: maiorNumero = numeroUm\n",
    "\n",
    "print(\"O maior número é:\", maiorNumero)\n"
   ]
  },
  {
   "cell_type": "markdown",
   "metadata": {},
   "source": []
  },
  {
   "cell_type": "code",
   "execution_count": 22,
   "metadata": {},
   "outputs": [
    {
     "name": "stdout",
     "output_type": "stream",
     "text": [
      "a taxa é do detran é R$:  75.0\n"
     ]
    }
   ],
   "source": [
    " #detran ighual 1%  carroFrabrucadisAntes de 1990 a taca é 1.5%. para os fabrucadis 1990 a taxa está incindiondo sobre o valor do carro.  \n",
    "\n",
    "\n",
    "preço= float  (input('valor do carro:'))\n",
    "ano = int (input ('ano do carro'))\n",
    "\n",
    "\n",
    "fabricação = 1990 \n",
    "\n",
    "taxaUmPorcento = 0.01\n",
    "taxaUmDotFive = 0.015 \n",
    "\n",
    "if ano < fabricação:\n",
    "    imposto = taxaUmPorcento * preço\n",
    "    print('a taxa é do detran é R$:', imposto)\n",
    "else:\n",
    "     imposto = taxaUmDotFive * preço\n",
    "     print('a taxa é do detran é R$: ', imposto) \n",
    "\n",
    "\n",
    "\n"
   ]
  },
  {
   "cell_type": "code",
   "execution_count": 30,
   "metadata": {},
   "outputs": [
    {
     "name": "stdout",
     "output_type": "stream",
     "text": [
      "o valor é de  800.0 a diferença é -1200.0\n"
     ]
    }
   ],
   "source": [
    "salario = float (input('Valor do salário'))\n",
    "cargo =  input(\"Digite seu cargo\")\n",
    "\n",
    "gerente = (10 / 100)\n",
    "engenhero = (20/ 100)\n",
    "tecnico = (30 /100)\n",
    "foraDaTababela = (40/100)\n",
    "\n",
    "\n",
    "\n",
    "if  cargo == 'gerente':\n",
    "    novoSalario = gerente * salario\n",
    "    diferenca = novoSalario - salario\n",
    "    print('o valor a ganhar é', novoSalario, 'a diferença é ', diferenca)\n",
    "elif cargo == 'engenhero':\n",
    "    novoSalario = engenhero * salario\n",
    "    diferenca = novoSalario - salario\n",
    "    print('o valor é a ganhar é ', novoSalario, 'a diferença é ', diferenca )\n",
    "elif cargo == 'tecnico':\n",
    "    novoSalario = tecnico * salario\n",
    "    diferenca = novoSalario - salario\n",
    "    print('o valor a ganhar é ', novoSalario, 'a diferença é', diferenca)\n",
    "else: \n",
    "    novoSalario = foraDaTababela * salario\n",
    "    diferenca = novoSalario - salario\n",
    "    print('o valor é de ', novoSalario, 'a diferença é', diferenca)"
   ]
  }
 ],
 "metadata": {
  "kernelspec": {
   "display_name": "Python 3",
   "language": "python",
   "name": "python3"
  },
  "language_info": {
   "codemirror_mode": {
    "name": "ipython",
    "version": 3
   },
   "file_extension": ".py",
   "mimetype": "text/x-python",
   "name": "python",
   "nbconvert_exporter": "python",
   "pygments_lexer": "ipython3",
   "version": "3.11.9"
  }
 },
 "nbformat": 4,
 "nbformat_minor": 2
}
