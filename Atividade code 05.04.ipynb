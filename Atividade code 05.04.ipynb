{
 "cells": [
  {
   "cell_type": "code",
   "execution_count": 1,
   "metadata": {},
   "outputs": [
    {
     "name": "stdout",
     "output_type": "stream",
     "text": [
      "a) O produto do dobro do primeiro com metade do segundo é: 2.0\n",
      "b) A soma do triplo do primeiro com o terceiro é: 6.0\n",
      "   O terceiro elevado ao cubo é: 27.0\n"
     ]
    }
   ],
   "source": [
    "# Solicitação dos números\n",
    "numero1 = int(input(\"Digite o primeiro número inteiro: \"))\n",
    "numero2 = int(input(\"Digite o segundo número inteiro: \"))\n",
    "numero3 = float(input(\"Digite o número real: \"))\n",
    "\n",
    "# Cálculos\n",
    "resultadoUm = (numero1 * 2) * (numero2 / 2)\n",
    "resultadoDois = (numero1 * 3) + numero3\n",
    "resultCubo = numero3 ** 3\n",
    "\n",
    "# Mostrando os resultados\n",
    "print(\"a) O produto do dobro do primeiro com metade do segundo é:\", resultadoUm)\n",
    "print(\"b) A soma do triplo do primeiro com o terceiro é:\", resultadoDois)\n",
    "print(\"   O terceiro elevado ao cubo é:\", resultCubo)\n",
    "\n"
   ]
  },
  {
   "cell_type": "code",
   "execution_count": 2,
   "metadata": {},
   "outputs": [
    {
     "name": "stdout",
     "output_type": "stream",
     "text": [
      "O maior número é: 20.0\n"
     ]
    }
   ],
   "source": [
    "# Solicitação dos números\n",
    "numero1 = float(input(\"Digite o primeiro número: \"))\n",
    "numero2 = float(input(\"Digite o segundo número: \"))\n",
    "\n",
    "# Verificando o maior número\n",
    "if numero1 > numero2:\n",
    "    print(\"O maior número é:\", numero1)\n",
    "elif numero2 > numero1:\n",
    "    print(\"O maior número é:\", numero2)\n",
    "else:\n",
    "    print(\"Os números são iguais.\")\n"
   ]
  },
  {
   "cell_type": "code",
   "execution_count": 9,
   "metadata": {},
   "outputs": [
    {
     "name": "stdout",
     "output_type": "stream",
     "text": [
      "O valor é positivo.\n"
     ]
    }
   ],
   "source": [
    "# Solicitação do valor\n",
    "getValue = float(input(\"Digite um valor: \"))\n",
    "\n",
    "# Verificando se o valor é positivo, negativo ou zero\n",
    "if getValue > 0:\n",
    "    print(\"O valor é positivo.\")\n",
    "elif getValue < 0:\n",
    "    print(\"O valor é negativo.\")\n",
    "else:\n",
    "    print(\"O valor é zero.\")\n"
   ]
  },
  {
   "cell_type": "code",
   "execution_count": 8,
   "metadata": {},
   "outputs": [
    {
     "name": "stdout",
     "output_type": "stream",
     "text": [
      "O maior número é: 50.0\n"
     ]
    }
   ],
   "source": [
    "# Leitura dos três números\n",
    "numeroUm = float(input(\"Digite o primeiro número: \"))\n",
    "numeroDois = float(input(\"Digite o segundo número: \"))\n",
    "numeroTres = float(input(\"Digite o terceiro número: \"))\n",
    "\n",
    "# Verificando o maior número\n",
    "maiorNumero = numeroUm\n",
    "\n",
    "if numeroDois > maiorNumero:\n",
    "    maiorNumero = numeroDois\n",
    "elif numeroTres > maiorNumero:\n",
    "    maiorNumero = numero3\n",
    "else: maiorNumero = numeroUm\n",
    "\n",
    "print(\"O maior número é:\", maiorNumero)\n"
   ]
  },
  {
   "cell_type": "markdown",
   "metadata": {},
   "source": []
  }
 ],
 "metadata": {
  "kernelspec": {
   "display_name": "Python 3",
   "language": "python",
   "name": "python3"
  },
  "language_info": {
   "codemirror_mode": {
    "name": "ipython",
    "version": 3
   },
   "file_extension": ".py",
   "mimetype": "text/x-python",
   "name": "python",
   "nbconvert_exporter": "python",
   "pygments_lexer": "ipython3",
   "version": "3.11.9"
  }
 },
 "nbformat": 4,
 "nbformat_minor": 2
}
