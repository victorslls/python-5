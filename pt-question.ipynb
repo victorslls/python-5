{
 "cells": [
  {
   "cell_type": "code",
   "execution_count": 1,
   "metadata": {},
   "outputs": [
    {
     "name": "stdout",
     "output_type": "stream",
     "text": [
      "A letra a é uma vogal.\n"
     ]
    }
   ],
   "source": [
    "def verificar_letra(letra):\n",
    "    vogais = 'aeiou'\n",
    "    if letra.lower() in vogais:\n",
    "        return \"A letra {} é uma vogal.\".format(letra)\n",
    "    else:\n",
    "        return \"A letra {} é uma consoante.\".format(letra)\n",
    "\n",
    "letra = input(\"Digite uma letra: \")\n",
    "print(verificar_letra(letra))\n"
   ]
  },
  {
   "cell_type": "code",
   "execution_count": 2,
   "metadata": {},
   "outputs": [
    {
     "name": "stdout",
     "output_type": "stream",
     "text": [
      "Você deve comprar o produto 1.\n"
     ]
    }
   ],
   "source": [
    "def verificar_preco():\n",
    "    precos = []\n",
    "    for i in range(1, 4):\n",
    "        preco = float(input(\"Digite o preço do produto {}: \".format(i)))\n",
    "        precos.append(preco)\n",
    "    menor_preco = min(precos)\n",
    "    produto_mais_barato = precos.index(menor_preco) + 1\n",
    "    return \"Você deve comprar o produto {}.\".format(produto_mais_barato)\n",
    "\n",
    "print(verificar_preco())\n"
   ]
  },
  {
   "cell_type": "code",
   "execution_count": 3,
   "metadata": {},
   "outputs": [
    {
     "name": "stdout",
     "output_type": "stream",
     "text": [
      "Os números em ordem decrescente são: [45.0, 30.0, 20.0]\n"
     ]
    }
   ],
   "source": [
    "# Solicita ao usuário que insira três números\n",
    "num1 = float(input(\"Digite o primeiro número: \"))\n",
    "num2 = float(input(\"Digite o segundo número: \"))\n",
    "num3 = float(input(\"Digite o terceiro número: \"))\n",
    "\n",
    "\n",
    "#lista das variaveis do get ashihasud\n",
    "numeros = [num1, num2, num3]\n",
    "\n",
    "\n",
    "numeros.sort(reverse=True)\n",
    "\n",
    "    #decrescente \n",
    "print(\"Os números em ordem decrescente são:\", numeros)\n"
   ]
  },
  {
   "cell_type": "code",
   "execution_count": 4,
   "metadata": {},
   "outputs": [
    {
     "name": "stdout",
     "output_type": "stream",
     "text": [
      "Quinta-feira\n"
     ]
    }
   ],
   "source": [
    "# Solicita ao usuário que insira um número\n",
    "num = int(input(\"Digite um número de 1 a 7: \"))\n",
    "\n",
    "# um objeto contendo os dados desejados\n",
    "dias = {1: \"Domingo\", 2: \"Segunda-feira\", 3: \"Terça-feira\", 4: \"Quarta-feira\", 5: \"Quinta-feira\", 6: \"Sexta-feira\", 7: \"Sábado\"}\n",
    "\n",
    "# verificando os dados\n",
    "if num in dias:\n",
    "    print(dias[num])\n",
    "else:\n",
    "    print(\"Valor inválido.\")\n"
   ]
  },
  {
   "cell_type": "code",
   "execution_count": 5,
   "metadata": {},
   "outputs": [
    {
     "name": "stdout",
     "output_type": "stream",
     "text": [
      "Boa tarde!\n"
     ]
    }
   ],
   "source": [
    "# Solicita ao usuário que insira o turno\n",
    "turno = input(\"Em que turno você estuda? Digite M para Matutino, B para Vespertino ou N para Noturno: \")\n",
    "\n",
    "# Converte a entrada para maiúsculas para evitar problemas com letras minúsculas\n",
    "turno = turno.upper()\n",
    "\n",
    "# Verifica o turno e imprime a mensagem correspondente\n",
    "if turno == 'M':\n",
    "    print(\"Bom dia!\")\n",
    "elif turno == 'B':\n",
    "    print(\"Boa tarde!\")\n",
    "elif turno == 'N':\n",
    "    print(\"Boa noite!\")\n",
    "else:\n",
    "    print(\"Valor inválido.\")\n"
   ]
  },
  {
   "cell_type": "code",
   "execution_count": null,
   "metadata": {},
   "outputs": [],
   "source": []
  }
 ],
 "metadata": {
  "kernelspec": {
   "display_name": "Python 3",
   "language": "python",
   "name": "python3"
  },
  "language_info": {
   "codemirror_mode": {
    "name": "ipython",
    "version": 3
   },
   "file_extension": ".py",
   "mimetype": "text/x-python",
   "name": "python",
   "nbconvert_exporter": "python",
   "pygments_lexer": "ipython3",
   "version": "3.11.9"
  }
 },
 "nbformat": 4,
 "nbformat_minor": 2
}
